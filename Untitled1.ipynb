{
  "nbformat": 4,
  "nbformat_minor": 0,
  "metadata": {
    "colab": {
      "provenance": [],
      "authorship_tag": "ABX9TyNZg5SMrkTTnyjjj8jfB6mA",
      "include_colab_link": true
    },
    "kernelspec": {
      "name": "python3",
      "display_name": "Python 3"
    },
    "language_info": {
      "name": "python"
    }
  },
  "cells": [
    {
      "cell_type": "markdown",
      "metadata": {
        "id": "view-in-github",
        "colab_type": "text"
      },
      "source": [
        "<a href=\"https://colab.research.google.com/github/nithya-dozes/test-repo/blob/main/Untitled1.ipynb\" target=\"_parent\"><img src=\"https://colab.research.google.com/assets/colab-badge.svg\" alt=\"Open In Colab\"/></a>"
      ]
    },
    {
      "cell_type": "code",
      "source": [
        "def count_pairs_with_sum_ten(n):\n",
        "    count = 0\n",
        "    for i in range(len(n)):\n",
        "        for j in range(i + 1, len(n)):\n",
        "            if n[i] + n[j] == 10:\n",
        "                count += 1\n",
        "    return count\n",
        "\n",
        "# Example usage\n",
        "input_list = [2, 7, 4, 1, 3, 6]\n",
        "result = count_pairs_with_sum_ten(input_list)\n",
        "print(\"The number of pairs with sum equal to 10 is:\",result)\n",
        "\n",
        "num_list = []\n",
        "print(\"Enter numbers separated by spaces:\")\n",
        "user_input = input().strip().split()\n",
        "\n",
        "for num in user_input:\n",
        "    num_list.append(int(num))\n",
        "\n",
        "result = count_pairs_with_sum_ten(num_list)\n",
        "print(\"The number of pairs with sum equal to 10 is:\", result)"
      ],
      "metadata": {
        "colab": {
          "base_uri": "https://localhost:8080/"
        },
        "id": "B_uoG0gTScSZ",
        "outputId": "efbe9fd2-14ca-4d3c-9e23-5e424de07702"
      },
      "execution_count": 12,
      "outputs": [
        {
          "output_type": "stream",
          "name": "stdout",
          "text": [
            "The number of pairs with sum equal to 10 is: 2\n",
            "Enter numbers separated by spaces:\n",
            "1 2 3 4 5 6 7 8 9 0\n",
            "The number of pairs with sum equal to 10 is: 4\n"
          ]
        }
      ]
    },
    {
      "cell_type": "code",
      "execution_count": 4,
      "metadata": {
        "colab": {
          "base_uri": "https://localhost:8080/"
        },
        "id": "n4NY_4xSRpRZ",
        "outputId": "29f4e426-10ab-48c1-eaa7-ba43b4ca7453"
      },
      "outputs": [
        {
          "output_type": "stream",
          "name": "stdout",
          "text": [
            "Enter numbers separated by spaces:\n",
            "1 2 3 4\n",
            "The range of numbers entered is: 3\n"
          ]
        }
      ],
      "source": [
        "def calc_range_list(num_list):\n",
        "    if len(num_list) < 3:\n",
        "        return \"Error: The list should not have less than 3 elements\"\n",
        "    else:\n",
        "        max_value = num_list[0]\n",
        "        min_value = num_list[0]\n",
        "        for num in num_list:\n",
        "            if num > max_value:\n",
        "                max_value = num\n",
        "            if num < min_value:\n",
        "                min_value = num\n",
        "        return max_value - min_value\n",
        "\n",
        "def calc_range_list1(num_list):\n",
        "    if len(num_list) < 3:\n",
        "        return \"Error: The list should not have less than 3 elements\"\n",
        "    else:\n",
        "        max_value = max(num_list)\n",
        "        return max_value - min(num_list)\n",
        "\n",
        "num_list = []\n",
        "print(\"Enter numbers separated by spaces:\")\n",
        "user_input = input().strip().split()\n",
        "\n",
        "for num in user_input:\n",
        "    num_list.append(int(num))\n",
        "\n",
        "result = calc_range_list1(num_list)\n",
        "print(\"The range of numbers entered is:\", result)"
      ]
    },
    {
      "cell_type": "code",
      "source": [
        "def matrix_multiply(A, B):\n",
        "    n = len(A)\n",
        "    result = []\n",
        "    for i in range(n):\n",
        "        row = []\n",
        "        for j in range(n):\n",
        "            row.append(0)\n",
        "        result.append(row)\n",
        "    for i in range(n):\n",
        "        for j in range(n):\n",
        "            for k in range(n):\n",
        "                result[i][j] += A[i][k] * B[k][j]\n",
        "    return result\n",
        "\n",
        "def identity_matrix(n):\n",
        "    result = []\n",
        "    for i in range(n):\n",
        "        row = []\n",
        "        for j in range(n):\n",
        "            if i == j:\n",
        "                row.append(1)\n",
        "            else:\n",
        "                row.append(0)\n",
        "        result.append(row)\n",
        "    return result\n",
        "\n",
        "def matrix_A_power_m(A, m):\n",
        "    n = len(A)\n",
        "    result = identity_matrix(n)\n",
        "    temp = A\n",
        "    while m > 0:\n",
        "        if m % 2 == 1:\n",
        "            result = matrix_multiply(result, temp)\n",
        "        else:\n",
        "            temp = matrix_multiply(temp, temp)\n",
        "        m //= 2\n",
        "    return result\n",
        "\n",
        "A = [[2, 0],[1, 3]]\n",
        "m = 3\n",
        "result = matrix_A_power_m(A, m)\n",
        "print(\"A^m is:\")\n",
        "for row in result:\n",
        "    print(row)"
      ],
      "metadata": {
        "colab": {
          "base_uri": "https://localhost:8080/"
        },
        "id": "vbcMpEw5UUaC",
        "outputId": "3011482b-c20a-400b-9b47-7dc04b11cab3"
      },
      "execution_count": 13,
      "outputs": [
        {
          "output_type": "stream",
          "name": "stdout",
          "text": [
            "A^m is:\n",
            "[4, 0]\n",
            "[5, 9]\n"
          ]
        }
      ]
    },
    {
      "cell_type": "code",
      "source": [
        "def count_characters(s):\n",
        "    char_count = {}\n",
        "    for char in s:\n",
        "        if char in char_count:\n",
        "            char_count[char] += 1\n",
        "        else:\n",
        "            char_count[char] = 1\n",
        "    return char_count\n",
        "\n",
        "def highest_occurrence(char_count):\n",
        "    max_char = ''\n",
        "    max_count = 0\n",
        "    for char in char_count:\n",
        "        if char_count[char] > max_count:\n",
        "            max_char = char\n",
        "            max_count = char_count[char]\n",
        "    return max_char, max_count\n",
        "\n",
        "input_string = input(\"Enter a string: \")\n",
        "\n",
        "char_count = count_characters(input_string)\n",
        "\n",
        "char, count = highest_occurrence(char_count)\n",
        "print(\"The highest occurring character is '{}' and the occurrence count is {}.\".format(char, count))\n"
      ],
      "metadata": {
        "colab": {
          "base_uri": "https://localhost:8080/"
        },
        "id": "ov5dw3CucJQX",
        "outputId": "749aa26e-7985-48e4-b785-9cc7f99ed182"
      },
      "execution_count": 15,
      "outputs": [
        {
          "output_type": "stream",
          "name": "stdout",
          "text": [
            "Enter a string: hippopotamus\n",
            "The highest occurring character is 'p' and the occurrence count is 3.\n"
          ]
        }
      ]
    }
  ]
}