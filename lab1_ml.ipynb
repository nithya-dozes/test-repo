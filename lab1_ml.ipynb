{
  "nbformat": 4,
  "nbformat_minor": 0,
  "metadata": {
    "colab": {
      "provenance": [],
      "authorship_tag": "ABX9TyMIRD0F1QqfoJuyYQcBvgoG",
      "include_colab_link": true
    },
    "kernelspec": {
      "name": "python3",
      "display_name": "Python 3"
    },
    "language_info": {
      "name": "python"
    }
  },
  "cells": [
    {
      "cell_type": "markdown",
      "metadata": {
        "id": "view-in-github",
        "colab_type": "text"
      },
      "source": [
        "<a href=\"https://colab.research.google.com/github/nithya-dozes/test-repo/blob/main/lab1_ml.ipynb\" target=\"_parent\"><img src=\"https://colab.research.google.com/assets/colab-badge.svg\" alt=\"Open In Colab\"/></a>"
      ]
    },
    {
      "cell_type": "code",
      "execution_count": 3,
      "metadata": {
        "colab": {
          "base_uri": "https://localhost:8080/"
        },
        "id": "h_vUfy_hSoGk",
        "outputId": "1d1ed3c0-bb37-4740-8aff-2eadb7de47bc"
      },
      "outputs": [
        {
          "output_type": "stream",
          "name": "stdout",
          "text": [
            "Count of pairs with sum as 10:  2\n"
          ]
        }
      ],
      "source": [
        "def count_pairs_sum_10(list1):\n",
        "    count = 0\n",
        "    for i in range(len(list1)):\n",
        "      for j in range(i+1,len(list1)):\n",
        "        if list1[i] + list1[j] == 10:\n",
        "          count+=1\n",
        "    return count\n",
        "\n",
        "\n",
        "list1 = [2, 7, 4, 1, 3, 6]\n",
        "c_pair = count_pairs_sum_10(list1)\n",
        "print(\"Count of pairs with sum as 10: \", c_pair )\n"
      ]
    },
    {
      "cell_type": "code",
      "source": [
        "def calc_range_list(num_list):\n",
        "    if len(num_list) < 3:\n",
        "        return \"Error: The list should have more than 3 elements\"\n",
        "    else:\n",
        "        min_value = min(num_list)\n",
        "        max_value = max(num_list)\n",
        "        range_value = max_value - min_value\n",
        "        return range_value\n",
        "\n",
        "n = input(\"Enter real numbers separated by space: \")\n",
        "num_list = list(map(float, input_str.split()))\n",
        "range_list = calc_range_list(num_list)\n",
        "\n",
        "print(\"Range of the list:\", range_list)"
      ],
      "metadata": {
        "colab": {
          "base_uri": "https://localhost:8080/",
          "height": 211
        },
        "id": "3wKk5-_SY7pA",
        "outputId": "7fe73cdc-25bb-4ff9-d82a-2f99cffcbe98"
      },
      "execution_count": 39,
      "outputs": [
        {
          "output_type": "error",
          "ename": "TypeError",
          "evalue": "'str' object is not callable",
          "traceback": [
            "\u001b[0;31m---------------------------------------------------------------------------\u001b[0m",
            "\u001b[0;31mTypeError\u001b[0m                                 Traceback (most recent call last)",
            "\u001b[0;32m<ipython-input-39-e3a8ea665086>\u001b[0m in \u001b[0;36m<cell line: 10>\u001b[0;34m()\u001b[0m\n\u001b[1;32m      8\u001b[0m         \u001b[0;32mreturn\u001b[0m \u001b[0mrange_value\u001b[0m\u001b[0;34m\u001b[0m\u001b[0;34m\u001b[0m\u001b[0m\n\u001b[1;32m      9\u001b[0m \u001b[0;34m\u001b[0m\u001b[0m\n\u001b[0;32m---> 10\u001b[0;31m \u001b[0mn\u001b[0m \u001b[0;34m=\u001b[0m \u001b[0minput\u001b[0m\u001b[0;34m(\u001b[0m\u001b[0;34m\"Enter real numbers separated by space: \"\u001b[0m\u001b[0;34m)\u001b[0m\u001b[0;34m\u001b[0m\u001b[0;34m\u001b[0m\u001b[0m\n\u001b[0m\u001b[1;32m     11\u001b[0m \u001b[0mnum_list\u001b[0m \u001b[0;34m=\u001b[0m \u001b[0mlist\u001b[0m\u001b[0;34m(\u001b[0m\u001b[0mmap\u001b[0m\u001b[0;34m(\u001b[0m\u001b[0mfloat\u001b[0m\u001b[0;34m,\u001b[0m \u001b[0minput_str\u001b[0m\u001b[0;34m.\u001b[0m\u001b[0msplit\u001b[0m\u001b[0;34m(\u001b[0m\u001b[0;34m)\u001b[0m\u001b[0;34m)\u001b[0m\u001b[0;34m)\u001b[0m\u001b[0;34m\u001b[0m\u001b[0;34m\u001b[0m\u001b[0m\n\u001b[1;32m     12\u001b[0m \u001b[0mrange_list\u001b[0m \u001b[0;34m=\u001b[0m \u001b[0mcalc_range_list\u001b[0m\u001b[0;34m(\u001b[0m\u001b[0mnum_list\u001b[0m\u001b[0;34m)\u001b[0m\u001b[0;34m\u001b[0m\u001b[0;34m\u001b[0m\u001b[0m\n",
            "\u001b[0;31mTypeError\u001b[0m: 'str' object is not callable"
          ]
        }
      ]
    },
    {
      "cell_type": "code",
      "source": [
        "def matrix_multiply(A, B):\n",
        "    n = len(A)\n",
        "    result = [[0] * n for _ in range(n)]\n",
        "    for i in range(n):\n",
        "        for j in range(n):\n",
        "            result[i][j] = sum(A[i][k] * B[k][j] for k in range(n))\n",
        "\n",
        "    return result\n",
        "\n",
        "def matrix_exponentiate(A, m):\n",
        "    n = len(A)\n",
        "    result = [[1 if i == j else 0 for j in range(n)] for i in range(n)]\n",
        "\n",
        "    base = A\n",
        "\n",
        "    while m > 0:\n",
        "        if m % 2 == 1:\n",
        "            result = matrix_multiply(result, base)\n",
        "        else:\n",
        "            base = matrix_multiply(base, base)\n",
        "        m //= 2\n",
        "\n",
        "    return result\n",
        "\n",
        "A = [[2, 2],[2, 2]]\n",
        "m = 3\n",
        "result_matrix = matrix_exponentiate(A, m)\n",
        "print(\"A^{} is:\".format(m))\n",
        "for row in result_matrix:\n",
        "    print(row)\n"
      ],
      "metadata": {
        "colab": {
          "base_uri": "https://localhost:8080/"
        },
        "id": "PQdE2xJyk18z",
        "outputId": "4aa9397b-509d-48f7-dcb1-6542b63d9bd6"
      },
      "execution_count": 38,
      "outputs": [
        {
          "output_type": "stream",
          "name": "stdout",
          "text": [
            "A^3 is:\n",
            "[8, 8]\n",
            "[8, 8]\n"
          ]
        }
      ]
    }
  ]
}